{
 "cells": [
  {
   "cell_type": "markdown",
   "id": "1ff2c97f-cbe7-4539-be76-d378b2fcac32",
   "metadata": {},
   "source": [
    "### ***Task 3:CHURN_MODELLING***"
   ]
  },
  {
   "cell_type": "markdown",
   "id": "0b7fe008-64d8-4e34-9b75-8bac3fbbc650",
   "metadata": {},
   "source": [
    "**Importing libraries and uploading data**"
   ]
  },
  {
   "cell_type": "code",
   "execution_count": 2,
   "id": "640dc840-e1fa-48e8-aade-029c2e75ad4b",
   "metadata": {},
   "outputs": [],
   "source": [
    "import pandas as pd\n",
    "import numpy as np\n",
    "import seaborn as sns\n",
    "import matplotlib.pyplot as plt\n",
    "\n",
    "from sklearn.model_selection import train_test_split\n",
    "from sklearn.preprocessing import LabelEncoder, StandardScaler\n",
    "from sklearn.ensemble import RandomForestClassifier\n",
    "from sklearn.metrics import accuracy_score, confusion_matrix, classification_report\n"
   ]
  },
  {
   "cell_type": "code",
   "execution_count": 3,
   "id": "865f3c6f-bc13-413c-bdf7-5fae279852b8",
   "metadata": {},
   "outputs": [
    {
     "data": {
      "text/html": [
       "<div>\n",
       "<style scoped>\n",
       "    .dataframe tbody tr th:only-of-type {\n",
       "        vertical-align: middle;\n",
       "    }\n",
       "\n",
       "    .dataframe tbody tr th {\n",
       "        vertical-align: top;\n",
       "    }\n",
       "\n",
       "    .dataframe thead th {\n",
       "        text-align: right;\n",
       "    }\n",
       "</style>\n",
       "<table border=\"1\" class=\"dataframe\">\n",
       "  <thead>\n",
       "    <tr style=\"text-align: right;\">\n",
       "      <th></th>\n",
       "      <th>RowNumber</th>\n",
       "      <th>CustomerId</th>\n",
       "      <th>Surname</th>\n",
       "      <th>CreditScore</th>\n",
       "      <th>Geography</th>\n",
       "      <th>Gender</th>\n",
       "      <th>Age</th>\n",
       "      <th>Tenure</th>\n",
       "      <th>Balance</th>\n",
       "      <th>NumOfProducts</th>\n",
       "      <th>HasCrCard</th>\n",
       "      <th>IsActiveMember</th>\n",
       "      <th>EstimatedSalary</th>\n",
       "      <th>Exited</th>\n",
       "    </tr>\n",
       "  </thead>\n",
       "  <tbody>\n",
       "    <tr>\n",
       "      <th>0</th>\n",
       "      <td>1</td>\n",
       "      <td>15634602</td>\n",
       "      <td>Hargrave</td>\n",
       "      <td>619</td>\n",
       "      <td>France</td>\n",
       "      <td>Female</td>\n",
       "      <td>42</td>\n",
       "      <td>2</td>\n",
       "      <td>0.00</td>\n",
       "      <td>1</td>\n",
       "      <td>1</td>\n",
       "      <td>1</td>\n",
       "      <td>101348.88</td>\n",
       "      <td>1</td>\n",
       "    </tr>\n",
       "    <tr>\n",
       "      <th>1</th>\n",
       "      <td>2</td>\n",
       "      <td>15647311</td>\n",
       "      <td>Hill</td>\n",
       "      <td>608</td>\n",
       "      <td>Spain</td>\n",
       "      <td>Female</td>\n",
       "      <td>41</td>\n",
       "      <td>1</td>\n",
       "      <td>83807.86</td>\n",
       "      <td>1</td>\n",
       "      <td>0</td>\n",
       "      <td>1</td>\n",
       "      <td>112542.58</td>\n",
       "      <td>0</td>\n",
       "    </tr>\n",
       "    <tr>\n",
       "      <th>2</th>\n",
       "      <td>3</td>\n",
       "      <td>15619304</td>\n",
       "      <td>Onio</td>\n",
       "      <td>502</td>\n",
       "      <td>France</td>\n",
       "      <td>Female</td>\n",
       "      <td>42</td>\n",
       "      <td>8</td>\n",
       "      <td>159660.80</td>\n",
       "      <td>3</td>\n",
       "      <td>1</td>\n",
       "      <td>0</td>\n",
       "      <td>113931.57</td>\n",
       "      <td>1</td>\n",
       "    </tr>\n",
       "    <tr>\n",
       "      <th>3</th>\n",
       "      <td>4</td>\n",
       "      <td>15701354</td>\n",
       "      <td>Boni</td>\n",
       "      <td>699</td>\n",
       "      <td>France</td>\n",
       "      <td>Female</td>\n",
       "      <td>39</td>\n",
       "      <td>1</td>\n",
       "      <td>0.00</td>\n",
       "      <td>2</td>\n",
       "      <td>0</td>\n",
       "      <td>0</td>\n",
       "      <td>93826.63</td>\n",
       "      <td>0</td>\n",
       "    </tr>\n",
       "    <tr>\n",
       "      <th>4</th>\n",
       "      <td>5</td>\n",
       "      <td>15737888</td>\n",
       "      <td>Mitchell</td>\n",
       "      <td>850</td>\n",
       "      <td>Spain</td>\n",
       "      <td>Female</td>\n",
       "      <td>43</td>\n",
       "      <td>2</td>\n",
       "      <td>125510.82</td>\n",
       "      <td>1</td>\n",
       "      <td>1</td>\n",
       "      <td>1</td>\n",
       "      <td>79084.10</td>\n",
       "      <td>0</td>\n",
       "    </tr>\n",
       "  </tbody>\n",
       "</table>\n",
       "</div>"
      ],
      "text/plain": [
       "   RowNumber  CustomerId   Surname  CreditScore Geography  Gender  Age  \\\n",
       "0          1    15634602  Hargrave          619    France  Female   42   \n",
       "1          2    15647311      Hill          608     Spain  Female   41   \n",
       "2          3    15619304      Onio          502    France  Female   42   \n",
       "3          4    15701354      Boni          699    France  Female   39   \n",
       "4          5    15737888  Mitchell          850     Spain  Female   43   \n",
       "\n",
       "   Tenure    Balance  NumOfProducts  HasCrCard  IsActiveMember  \\\n",
       "0       2       0.00              1          1               1   \n",
       "1       1   83807.86              1          0               1   \n",
       "2       8  159660.80              3          1               0   \n",
       "3       1       0.00              2          0               0   \n",
       "4       2  125510.82              1          1               1   \n",
       "\n",
       "   EstimatedSalary  Exited  \n",
       "0        101348.88       1  \n",
       "1        112542.58       0  \n",
       "2        113931.57       1  \n",
       "3         93826.63       0  \n",
       "4         79084.10       0  "
      ]
     },
     "execution_count": 3,
     "metadata": {},
     "output_type": "execute_result"
    }
   ],
   "source": [
    "df = pd.read_csv(\"Churn_Modelling.csv\")\n",
    "df.head()\n"
   ]
  },
  {
   "cell_type": "markdown",
   "id": "bd60be39-a3a0-4cfe-892d-20ea423f1f48",
   "metadata": {},
   "source": [
    "**Cleaning Data**"
   ]
  },
  {
   "cell_type": "code",
   "execution_count": 5,
   "id": "3c346ec7-1994-4465-9bab-0c3f279aa866",
   "metadata": {},
   "outputs": [
    {
     "name": "stdout",
     "output_type": "stream",
     "text": [
      "<class 'pandas.core.frame.DataFrame'>\n",
      "RangeIndex: 10000 entries, 0 to 9999\n",
      "Data columns (total 14 columns):\n",
      " #   Column           Non-Null Count  Dtype  \n",
      "---  ------           --------------  -----  \n",
      " 0   RowNumber        10000 non-null  int64  \n",
      " 1   CustomerId       10000 non-null  int64  \n",
      " 2   Surname          10000 non-null  object \n",
      " 3   CreditScore      10000 non-null  int64  \n",
      " 4   Geography        10000 non-null  object \n",
      " 5   Gender           10000 non-null  object \n",
      " 6   Age              10000 non-null  int64  \n",
      " 7   Tenure           10000 non-null  int64  \n",
      " 8   Balance          10000 non-null  float64\n",
      " 9   NumOfProducts    10000 non-null  int64  \n",
      " 10  HasCrCard        10000 non-null  int64  \n",
      " 11  IsActiveMember   10000 non-null  int64  \n",
      " 12  EstimatedSalary  10000 non-null  float64\n",
      " 13  Exited           10000 non-null  int64  \n",
      "dtypes: float64(2), int64(9), object(3)\n",
      "memory usage: 1.1+ MB\n",
      "\n",
      "🔍 Missing Values per Column:\n",
      "\n",
      "RowNumber          0\n",
      "CustomerId         0\n",
      "Surname            0\n",
      "CreditScore        0\n",
      "Geography          0\n",
      "Gender             0\n",
      "Age                0\n",
      "Tenure             0\n",
      "Balance            0\n",
      "NumOfProducts      0\n",
      "HasCrCard          0\n",
      "IsActiveMember     0\n",
      "EstimatedSalary    0\n",
      "Exited             0\n",
      "dtype: int64\n"
     ]
    }
   ],
   "source": [
    "# Show basic info and check missing values\n",
    "df.info()\n",
    "print(\"\\n🔍 Missing Values per Column:\\n\")\n",
    "print(df.isnull().sum())\n"
   ]
  },
  {
   "cell_type": "code",
   "execution_count": 10,
   "id": "3c39eb15-03f6-4b88-91e5-2172bf3fb8ec",
   "metadata": {},
   "outputs": [
    {
     "name": "stdout",
     "output_type": "stream",
     "text": [
      "Dropped columns: ['RowNumber', 'CustomerId', 'Surname']\n",
      " New shape of dataset: (10000, 11)\n",
      "\n",
      " New columns:\n",
      " Index(['CreditScore', 'Geography', 'Gender', 'Age', 'Tenure', 'Balance',\n",
      "       'NumOfProducts', 'HasCrCard', 'IsActiveMember', 'EstimatedSalary',\n",
      "       'Exited'],\n",
      "      dtype='object')\n"
     ]
    }
   ],
   "source": [
    "#drop irrelevant column\n",
    "#  Drop irrelevant columns\n",
    "df_cleaned = df.drop(columns=['RowNumber', 'CustomerId', 'Surname'])\n",
    "\n",
    "# Confirm the drop\n",
    "print(\"Dropped columns: ['RowNumber', 'CustomerId', 'Surname']\")\n",
    "print(\" New shape of dataset:\", df_cleaned.shape)\n",
    "print(\"\\n New columns:\\n\", df_cleaned.columns)\n"
   ]
  },
  {
   "cell_type": "code",
   "execution_count": 9,
   "id": "3990da99-47b4-4fae-ade9-b194a9907820",
   "metadata": {},
   "outputs": [
    {
     "name": "stdout",
     "output_type": "stream",
     "text": [
      "\n",
      " Checking missing values after dropping columns:\n",
      "\n",
      "CreditScore        0\n",
      "Geography          0\n",
      "Gender             0\n",
      "Age                0\n",
      "Tenure             0\n",
      "Balance            0\n",
      "NumOfProducts      0\n",
      "HasCrCard          0\n",
      "IsActiveMember     0\n",
      "EstimatedSalary    0\n",
      "Exited             0\n",
      "dtype: int64\n",
      "\n",
      " Missing values after treatment:\n",
      "\n",
      "CreditScore        0\n",
      "Geography          0\n",
      "Gender             0\n",
      "Age                0\n",
      "Tenure             0\n",
      "Balance            0\n",
      "NumOfProducts      0\n",
      "HasCrCard          0\n",
      "IsActiveMember     0\n",
      "EstimatedSalary    0\n",
      "Exited             0\n",
      "dtype: int64\n"
     ]
    }
   ],
   "source": [
    "# missing value\n",
    "\n",
    "print(\"\\n Checking missing values after dropping columns:\\n\")\n",
    "print(df_cleaned.isnull().sum())\n",
    "\n",
    "# Fill missing values using forward fill (modern syntax)\n",
    "df_cleaned = df_cleaned.ffill()  # or use .bfill() for backward fill\n",
    "\n",
    "# Confirm missing values are handled\n",
    "print(\"\\n Missing values after treatment:\\n\")\n",
    "print(df_cleaned.isnull().sum())\n",
    "\n"
   ]
  },
  {
   "cell_type": "markdown",
   "id": "9629946d-7b0f-4800-b21d-60fa89222982",
   "metadata": {},
   "source": [
    "**Encode columns**"
   ]
  },
  {
   "cell_type": "code",
   "execution_count": 14,
   "id": "132e9e15-387c-4e36-801c-c75bda7abb7c",
   "metadata": {},
   "outputs": [
    {
     "name": "stdout",
     "output_type": "stream",
     "text": [
      " One-Hot Encoding applied to 'Geography'\n",
      "New Columns:\n",
      "['Geography_Germany', 'Geography_Spain']\n"
     ]
    }
   ],
   "source": [
    "#  One-Hot Encode 'Geography'\n",
    "df_encoded = pd.get_dummies(df_cleaned, columns=['Geography'], drop_first=True)\n",
    "print(\" One-Hot Encoding applied to 'Geography'\\nNew Columns:\")\n",
    "print([col for col in df_encoded.columns if 'Geography' in col])\n",
    "\n"
   ]
  },
  {
   "cell_type": "code",
   "execution_count": 15,
   "id": "e2d26935-5982-497e-9b01-2f7f474af1fa",
   "metadata": {},
   "outputs": [
    {
     "name": "stdout",
     "output_type": "stream",
     "text": [
      "\n",
      " Label Encoding applied to 'Gender'\n",
      "Gender Value Counts:\n",
      " Gender\n",
      "1    5457\n",
      "0    4543\n",
      "Name: count, dtype: int64\n"
     ]
    }
   ],
   "source": [
    "# Label Encode 'Gender' (Male=1, Female=0)\n",
    "from sklearn.preprocessing import LabelEncoder\n",
    "\n",
    "le = LabelEncoder()\n",
    "df_encoded['Gender'] = le.fit_transform(df_encoded['Gender'])\n",
    "\n",
    "print(\"\\n Label Encoding applied to 'Gender'\")\n",
    "print(\"Gender Value Counts:\\n\", df_encoded['Gender'].value_counts())\n"
   ]
  },
  {
   "cell_type": "code",
   "execution_count": 16,
   "id": "2320f98c-d4fb-447f-951d-5198ae6aeba3",
   "metadata": {},
   "outputs": [
    {
     "name": "stdout",
     "output_type": "stream",
     "text": [
      "\n",
      " Features and target variable separated.\n",
      " Feature matrix shape: (10000, 11)\n",
      " Target vector shape: (10000,)\n"
     ]
    }
   ],
   "source": [
    "#split feature\n",
    "X = df_encoded.drop('Exited', axis=1)\n",
    "y = df_encoded['Exited']\n",
    "\n",
    "print(\"\\n Features and target variable separated.\")\n",
    "print(\" Feature matrix shape:\", X.shape)\n",
    "print(\" Target vector shape:\", y.shape)\n",
    "\n"
   ]
  },
  {
   "cell_type": "code",
   "execution_count": 17,
   "id": "b5d5bf62-77c9-4ff2-b662-669867715ad0",
   "metadata": {},
   "outputs": [
    {
     "name": "stdout",
     "output_type": "stream",
     "text": [
      "\n",
      " Features and target variable separated.\n",
      " Feature matrix shape: (10000, 11)\n",
      " Target vector shape: (10000,)\n"
     ]
    }
   ],
   "source": [
    "#standarize feature\n",
    "X = df_encoded.drop('Exited', axis=1)\n",
    "y = df_encoded['Exited']\n",
    "\n",
    "print(\"\\n Features and target variable separated.\")\n",
    "print(\" Feature matrix shape:\", X.shape)\n",
    "print(\" Target vector shape:\", y.shape)\n"
   ]
  },
  {
   "cell_type": "markdown",
   "id": "97965fe8-5e56-4fb6-9a75-8b1546f2f85f",
   "metadata": {},
   "source": [
    "**Train model**"
   ]
  },
  {
   "cell_type": "code",
   "execution_count": 18,
   "id": "123d6177-f775-4ded-bddf-c4201e5c9435",
   "metadata": {},
   "outputs": [],
   "source": [
    "# 🔹 Step: Train-Test Split (if not already done)\n",
    "from sklearn.model_selection import train_test_split\n",
    "\n",
    "X_train, X_test, y_train, y_test = train_test_split(\n",
    "    X_scaled, y, test_size=0.2, random_state=42\n",
    ")\n"
   ]
  },
  {
   "cell_type": "code",
   "execution_count": 20,
   "id": "342eb805-f6a0-420c-a599-c0eabba7acb0",
   "metadata": {},
   "outputs": [
    {
     "name": "stdout",
     "output_type": "stream",
     "text": [
      "Data split complete\n",
      "X_train shape: (8000, 11)\n",
      "X_test shape: (2000, 11)\n"
     ]
    }
   ],
   "source": [
    "#train test split\n",
    "from sklearn.model_selection import train_test_split\n",
    "\n",
    "# Split into training and testing sets\n",
    "X_train, X_test, y_train, y_test = train_test_split(\n",
    "    X_scaled, y, test_size=0.2, random_state=42\n",
    ")\n",
    "\n",
    "print(\"Data split complete\")\n",
    "print(\"X_train shape:\", X_train.shape)\n",
    "print(\"X_test shape:\", X_test.shape)\n"
   ]
  },
  {
   "cell_type": "code",
   "execution_count": 23,
   "id": "7497257e-fa07-4306-97b5-cee015058e7b",
   "metadata": {},
   "outputs": [
    {
     "name": "stdout",
     "output_type": "stream",
     "text": [
      " Model training completed successfully!\n"
     ]
    }
   ],
   "source": [
    "from sklearn.ensemble import RandomForestClassifier\n",
    "\n",
    "# Initialize and train model\n",
    "model = RandomForestClassifier(random_state=42)\n",
    "model.fit(X_train, y_train)\n",
    "\n",
    "print(\" Model training completed successfully!\")\n",
    "\n"
   ]
  },
  {
   "cell_type": "code",
   "execution_count": 24,
   "id": "e87e350b-7ef8-4ade-bdcc-63a8383e95e0",
   "metadata": {},
   "outputs": [
    {
     "name": "stdout",
     "output_type": "stream",
     "text": [
      " Predictions made successfully!\n",
      " Sample predictions (first 10): [0 0 0 0 0 0 0 0 0 0]\n"
     ]
    }
   ],
   "source": [
    "#make prediction\n",
    "# Predict test data\n",
    "y_pred = model.predict(X_test)\n",
    "\n",
    "print(\" Predictions made successfully!\")\n",
    "print(\" Sample predictions (first 10):\", y_pred[:10])\n"
   ]
  },
  {
   "cell_type": "markdown",
   "id": "b55e08a8-2a0e-45ec-b972-403778f91a3a",
   "metadata": {},
   "source": [
    "**Analyze**"
   ]
  },
  {
   "cell_type": "code",
   "execution_count": 28,
   "id": "88758e42-aed2-497b-9bbe-184a838d4cb2",
   "metadata": {},
   "outputs": [],
   "source": [
    "# Extract feature importance\n",
    "import pandas as pd\n",
    "import matplotlib.pyplot as plt\n",
    "import seaborn as sns\n",
    "\n",
    "# Match features with importance scores\n",
    "feature_names = X.columns  # original column names before scaling\n",
    "importances = model.feature_importances_\n",
    "\n",
    "# Create a DataFrame\n",
    "feat_imp = pd.DataFrame({\n",
    "    'Feature': feature_names,\n",
    "    'Importance': importances\n",
    "})\n",
    "\n",
    "# Sort by importance\n",
    "feat_imp_sorted = feat_imp.sort_values(by='Importance', ascending=False)\n"
   ]
  },
  {
   "cell_type": "code",
   "execution_count": 27,
   "id": "f0230472-b6ea-4f75-b139-fc2f8090ba26",
   "metadata": {},
   "outputs": [
    {
     "name": "stderr",
     "output_type": "stream",
     "text": [
      "C:\\Users\\HP\\AppData\\Local\\Temp\\ipykernel_12252\\783669945.py:4: FutureWarning: \n",
      "\n",
      "Passing `palette` without assigning `hue` is deprecated and will be removed in v0.14.0. Assign the `y` variable to `hue` and set `legend=False` for the same effect.\n",
      "\n",
      "  sns.barplot(\n"
     ]
    },
    {
     "data": {
      "image/png": "[encoded data removed]",
      "text/plain": [
       "<Figure size 1000x600 with 1 Axes>"
      ]
     },
     "metadata": {},
     "output_type": "display_data"
    }
   ],
   "source": [
    "#  Visualize important features\n",
    "\n",
    "plt.figure(figsize=(10, 6))\n",
    "sns.barplot(\n",
    "    x='Importance', \n",
    "    y='Feature', \n",
    "    data=feat_imp_sorted, \n",
    "    hue=None,                  \n",
    "    legend=False,              \n",
    "    palette='viridis'\n",
    ")\n",
    "plt.title(' Feature Importance: What Influences Customer Churn')\n",
    "plt.xlabel('Importance Score')\n",
    "plt.ylabel('Features')\n",
    "plt.tight_layout()\n",
    "plt.show()\n",
    "\n"
   ]
  }
 ],
 "metadata": {
  "kernelspec": {
   "display_name": "Python 3 (ipykernel)",
   "language": "python",
   "name": "python3"
  },
  "language_info": {
   "codemirror_mode": {
    "name": "ipython",
    "version": 3
   },
   "file_extension": ".py",
   "mimetype": "text/x-python",
   "name": "python",
   "nbconvert_exporter": "python",
   "pygments_lexer": "ipython3",
   "version": "3.12.7"
  }
 },
 "nbformat": 4,
 "nbformat_minor": 5
}
